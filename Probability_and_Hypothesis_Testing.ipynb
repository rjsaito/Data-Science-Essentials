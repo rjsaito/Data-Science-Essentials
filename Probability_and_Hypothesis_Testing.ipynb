{
  "nbformat": 4,
  "nbformat_minor": 0,
  "metadata": {
    "colab": {
      "name": "Probability and Hypothesis Testing",
      "provenance": [],
      "collapsed_sections": [],
      "toc_visible": true,
      "include_colab_link": true
    },
    "kernelspec": {
      "name": "python3",
      "display_name": "Python 3"
    }
  },
  "cells": [
    {
      "cell_type": "markdown",
      "metadata": {
        "id": "view-in-github",
        "colab_type": "text"
      },
      "source": [
        "<a href=\"https://colab.research.google.com/github/rjsaito/Data-Science-Essentials/blob/master/Probability_and_Hypothesis_Testing.ipynb\" target=\"_parent\"><img src=\"https://colab.research.google.com/assets/colab-badge.svg\" alt=\"Open In Colab\"/></a>"
      ]
    },
    {
      "cell_type": "code",
      "metadata": {
        "id": "NVpVl5xLRcfG",
        "colab_type": "code",
        "colab": {}
      },
      "source": [
        "# activate R magic\n",
        "import rpy2\n",
        "%reload_ext rpy2.ipython"
      ],
      "execution_count": 0,
      "outputs": []
    },
    {
      "cell_type": "markdown",
      "metadata": {
        "id": "Krbrv_PXKOQv",
        "colab_type": "text"
      },
      "source": [
        "# Probability"
      ]
    },
    {
      "cell_type": "markdown",
      "metadata": {
        "id": "Vg42UzAaKPqb",
        "colab_type": "text"
      },
      "source": [
        "## Conditional Dependence"
      ]
    },
    {
      "cell_type": "markdown",
      "metadata": {
        "id": "BH1LSox2KRQo",
        "colab_type": "text"
      },
      "source": [
        "## Bayes' Rule"
      ]
    },
    {
      "cell_type": "markdown",
      "metadata": {
        "id": "8nd8gQRlN1Pr",
        "colab_type": "text"
      },
      "source": [
        "# Law of Large Numbers\n",
        "\n",
        "In probability theory, the law of large numbers (LLN) is a theorem that describes the result of performing the same experiment a large number of times. According to the law, the average of the results obtained from a large number of trials should be close to the expected value, and will tend to become closer as more trials are performed."
      ]
    },
    {
      "cell_type": "markdown",
      "metadata": {
        "id": "hI2v6KdYOZnh",
        "colab_type": "text"
      },
      "source": [
        "## Weak Law"
      ]
    },
    {
      "cell_type": "markdown",
      "metadata": {
        "id": "EX0lyyqJONLL",
        "colab_type": "text"
      },
      "source": [
        "The weak law of large numbers (also called Khinchin's law) states that the sample average converges in probability towards the expected value\n",
        "\n",
        "$$\n",
        "{\\displaystyle {\\begin{matrix}{}\\\\{\\overline {X}}_{n}\\ {\\xrightarrow {P}}\\ \\mu \\qquad {\\textrm {when}}\\ n\\to \\infty .\\\\{}\\end{matrix}}}\n",
        "$$\n",
        " \n",
        "\n",
        "That is, for any positive number $ε$,\n",
        "\n",
        "$$\n",
        " \\lim _{n\\to \\infty }\\Pr \\!\\left(\\,|{\\overline {X}}_{n}-\\mu |>\\varepsilon \\,\\right)=0.\n",
        "$$"
      ]
    },
    {
      "cell_type": "markdown",
      "metadata": {
        "id": "v_OQctT4OdkD",
        "colab_type": "text"
      },
      "source": [
        "## Strong Law\n",
        "\n",
        "The strong law of large numbers states that the sample average converges almost surely to the expected value\n",
        "\n",
        "\n",
        "$$\n",
        "{\\displaystyle {\\begin{matrix}{}\\\\{\\bar {X}}_{n}\\ {\\xrightarrow {\\text{a.s.}}}\\ \\mu \\qquad {\\textrm {when}}\\ n\\to \\infty .\\\\{}\\end{matrix}}}\n",
        "$$\n",
        " \n",
        "That is,\n",
        "\n",
        "$$\n",
        "{\\displaystyle \\Pr \\!\\left(\\lim _{n\\to \\infty }{\\bar {X}}_{n}=\\mu \\right)=1.}\n",
        "$$\n",
        "\n",
        "\\\\\n",
        "\n",
        "What this means is that the probability that, as the number of trials n goes to infinity, the average of the observations converges to the expected value, is equal to one."
      ]
    },
    {
      "cell_type": "markdown",
      "metadata": {
        "id": "PLXBA33pN4EL",
        "colab_type": "text"
      },
      "source": [
        "# Central Limit Theorem\n",
        "\n",
        "In probability theory, the central limit theorem (CLT) establishes that, in some situations, when independent random variables are added, their properly normalized sum tends toward a normal distribution (informally a \"bell curve\") even if the original variables themselves are not normally distributed. The theorem is a key concept in probability theory because it implies that probabilistic and statistical methods that work for normal distributions can be applicable to many problems involving other types of distributions.\n",
        "\n",
        "For example, suppose that a sample is obtained containing a large number of observations, each observation being randomly generated in a way that does not depend on the values of the other observations, and that the arithmetic mean of the observed values is computed. If this procedure is performed many times, the central limit theorem says that the distribution of the average will be closely approximated by a normal distribution. A simple example of this is that if one flips a coin many times the probability of getting a given number of heads in a series of flips will approach a normal curve, with mean equal to half the total number of flips in each series. (In the limit of an infinite number of flips, it will equal a normal curve.)\n",
        "\n",
        "The central limit theorem has a number of variants. In its common form, the random variables must be identically distributed. In variants, convergence of the mean to the normal distribution also occurs for non-identical distributions or for non-independent observations, given that they comply with certain conditions.\n",
        "\n",
        "The earliest version of this theorem, that the normal distribution may be used as an approximation to the binomial distribution, is now known as the de Moivre–Laplace theorem."
      ]
    },
    {
      "cell_type": "code",
      "metadata": {
        "id": "nAVaqQSnQpHZ",
        "colab_type": "code",
        "outputId": "28903b47-d4bd-492f-a6b2-db93a2583383",
        "colab": {
          "base_uri": "https://localhost:8080/",
          "height": 497
        }
      },
      "source": [
        "# Original distribution is uniform\n",
        "\n",
        "%%R\n",
        "\n",
        "unifvars = runif(1000, min = 0, max = 100)\n",
        "hist(unifvars)"
      ],
      "execution_count": 0,
      "outputs": [
        {
          "output_type": "display_data",
          "data": {
            "image/png": "[encoded data removed]"
          },
          "metadata": {
            "tags": []
          }
        }
      ]
    },
    {
      "cell_type": "code",
      "metadata": {
        "id": "EXOPa-QPRvmb",
        "colab_type": "code",
        "outputId": "65d9d3ed-4893-4725-d487-1bf97481d306",
        "colab": {
          "base_uri": "https://localhost:8080/",
          "height": 497
        }
      },
      "source": [
        "# Take small samples of 20 and get average, 1000 times, end up with normal distribution\n",
        "\n",
        "%%R\n",
        "\n",
        "varmeans = replicate(1000, mean(sample(unifvars, 20)))\n",
        "hist(varmeans)"
      ],
      "execution_count": 0,
      "outputs": [
        {
          "output_type": "display_data",
          "data": {
            "image/png": "[encoded data removed]"
          },
          "metadata": {
            "tags": []
          }
        }
      ]
    },
    {
      "cell_type": "markdown",
      "metadata": {
        "id": "resaTv-_S1Zv",
        "colab_type": "text"
      },
      "source": [
        "# Sample Size Calculation"
      ]
    },
    {
      "cell_type": "markdown",
      "metadata": {
        "id": "sErAgptsS3BA",
        "colab_type": "text"
      },
      "source": [
        "In general, specifying the sample size should have been done prior to running the test.\n",
        "\n",
        "Sample sizes may be chosen in several different ways:\n",
        "\n",
        "- experience – A choice of small sample sizes, though sometimes necessary, can result in wide confidence intervals or risks of errors in statistical hypothesis testing.\n",
        "- using a target variance for an estimate to be derived from the sample eventually obtained, i.e. if a high precision is required (narrow confidence interval) this translates to a low target variance of the estimator.\n",
        "- using a target for the power of a statistical test to be applied once the sample is collected.\n",
        "- using a confidence level, i.e. the larger the required confidence level, the larger the sample size (given a constant precision requirement).\n",
        "\n",
        "Larger sample sizes generally lead to increased precision when estimating unknown parameters. Several fundamental facts of mathematical statistics describe this phenomenon, including the law of large numbers and the central limit theorem."
      ]
    },
    {
      "cell_type": "markdown",
      "metadata": {
        "id": "DnUIl_SIhXbU",
        "colab_type": "text"
      },
      "source": [
        " $$ n=\\frac{2(Z_{\\alpha}+Z_{\\beta})^2\\sigma^2}{\\Delta^2} $$"
      ]
    },
    {
      "cell_type": "markdown",
      "metadata": {
        "id": "VpK6G1I_hST4",
        "colab_type": "text"
      },
      "source": [
        "To calculate the required sample size, you’ll need to know four things:\n",
        "\n",
        "-  **Delta** ($\\Delta$): The size of the response you want to detect\n",
        "- **Variance** ($\\sigma^2$): The variance of the response\n",
        "- **Significance** ($\\alpha$): The desired significance level\n",
        "- **Power** ($\\beta$): The desired power"
      ]
    },
    {
      "cell_type": "markdown",
      "metadata": {
        "id": "H8iFtljGiMFY",
        "colab_type": "text"
      },
      "source": [
        "### Delta\n",
        "\n",
        "Suppose you are comparing a treatment group to a placebo group, and you will be measuring some continuous response variable which, you hope, will be affected by the treatment. We can consider the mean response in the treatment group, μ1, and the mean response in the placebo group, μ2. We can then define $Δ = μ_1 – μ_2$. The smaller the difference you want to detect, the larger the required sample size.\n",
        "\n",
        "### Variance\n",
        "Of the four variables that go into the sample size calculation, the variance of the responses can be the most difficult to determine. Usually, before you do your experiment, you don’t know what variance to expect. Investigators often conduct a pilot study to determine the expected variance, or information from a previous published study can be used.\n",
        "\n",
        "The effect size combines the minimal relevant difference and the variability into one measurement, $Δ/σ$.\n",
        "\n",
        "### Significance\n",
        "Significance is equal to $1 – α$, where $α$ is the probability of making a Type 1 Error. That is, alpha represents the chance of a falsely rejecting $H_0$ and picking up a false-positive effect. Alpha is usually set at 0.05, for a 95% significance.\n",
        "\n",
        "For a two-sided test, we use &Z_α/2& instead of &Z_α$.\n",
        "\n",
        "### Power\n",
        "The power of a test is $1-β$, where beta is the probability of a Type 2 error (failing to reject the null hypothesis when the alternative hypothesis is true). In other words, if you have a 20% chance of failing to detect a real difference, then the power of your test is .8."
      ]
    },
    {
      "cell_type": "markdown",
      "metadata": {
        "id": "N6WRIDAuiqjQ",
        "colab_type": "text"
      },
      "source": [
        "For example, suppose baseline conversion is 5% and we want to see a detectable relative chance of 20% (+1% absolute change), with 90% power using a two-sided t-test, and a .05 significance level. Using baseline probabilitty of 5%, our variance is $p(1-p) = 0.475$.\n",
        "\n",
        "In this example, $α=.05$, $β=.10$, $Δ=.1$, and $σ=.25$. $Z_{α/2}=1.96$, and $Z_β=1.28$. So we have: \n",
        "\n",
        "$ \\\\ $\n",
        "\n",
        "$$\n",
        "n=\\frac{2(1.96+1.28)^2 0.475}{0.1^2}\\approx 9,982\n",
        "$$\n",
        "\n",
        "or, about 9,982 for each treatment group."
      ]
    },
    {
      "cell_type": "code",
      "metadata": {
        "id": "667-WY9xi-BR",
        "colab_type": "code",
        "outputId": "711be8c9-3768-4483-91b0-d7eda7d3b19c",
        "colab": {
          "base_uri": "https://localhost:8080/",
          "height": 34
        }
      },
      "source": [
        "%%R\n",
        "\n",
        "a = .05\n",
        "b = .1\n",
        "baseline = .05\n",
        "d = .05 * .2\n",
        "s2 = (baseline * (1- baseline))\n",
        "# largest case scenario\n",
        "#s2 = .5 * (1-.5)\n",
        "za = qnorm(1 - (a/2)) #1.96\n",
        "zb = qnorm(1 - b) #1.28\n",
        "n = 2*((za + zb)^2)*s2/(d^2)\n",
        "\n",
        "n"
      ],
      "execution_count": 0,
      "outputs": [
        {
          "output_type": "display_data",
          "data": {
            "text/plain": [
              "[1] 9982.052\n"
            ]
          },
          "metadata": {
            "tags": []
          }
        }
      ]
    },
    {
      "cell_type": "markdown",
      "metadata": {
        "id": "Ue9GbbRQtyrc",
        "colab_type": "text"
      },
      "source": [
        "For a one-sided test"
      ]
    },
    {
      "cell_type": "code",
      "metadata": {
        "id": "8qeefsfStw3j",
        "colab_type": "code",
        "outputId": "a30a363b-6299-40fd-ff18-2b375537e889",
        "colab": {
          "base_uri": "https://localhost:8080/",
          "height": 34
        }
      },
      "source": [
        "%%R\n",
        "\n",
        "a = .05\n",
        "b = .1\n",
        "baseline = .05\n",
        "d = .05 * .2\n",
        "s2 = (baseline * (1- baseline))\n",
        "# largest case scenario\n",
        "#s2 = .5 * (1-.5)\n",
        "za = qnorm(1 - a) #1.65\n",
        "zb = qnorm(1 - b) #1.28\n",
        "n = 2*((za + zb)^2)*s2/(d^2)\n",
        "\n",
        "n"
      ],
      "execution_count": 0,
      "outputs": [
        {
          "output_type": "display_data",
          "data": {
            "text/plain": [
              "[1] 8135.655\n"
            ]
          },
          "metadata": {
            "tags": []
          }
        }
      ]
    },
    {
      "cell_type": "markdown",
      "metadata": {
        "id": "6ntSYt0cJHvm",
        "colab_type": "text"
      },
      "source": [
        "# One Sample t-test"
      ]
    },
    {
      "cell_type": "markdown",
      "metadata": {
        "id": "bnKpb4UfKWE4",
        "colab_type": "text"
      },
      "source": [
        "In testing the null hypothesis that the population mean is equal to a specified value $μ_0$, one uses the statistic"
      ]
    },
    {
      "cell_type": "markdown",
      "metadata": {
        "id": "nIjBgUhLKWfq",
        "colab_type": "text"
      },
      "source": [
        "$$ {\\displaystyle t={\\frac {{\\bar {x}}-\\mu _{0}}{\\frac {s}{\\sqrt {n}}}}} $$"
      ]
    },
    {
      "cell_type": "markdown",
      "metadata": {
        "id": "Rjs3YtGWKdwS",
        "colab_type": "text"
      },
      "source": [
        "where $\\bar{x}$ is the sample mean, s is the sample standard deviation of the sample and n is the sample size. The degrees of freedom used in this test are $n − 1$. Although the parent population does not need to be normally distributed, the distribution of the population of sample means $\\bar {x}$ is assumed to be normal.\n",
        "\n",
        "By the central limit theorem, if the observations are independent and the second moment exists, then $t$ will be approximately normal $N(0;1)$."
      ]
    },
    {
      "cell_type": "code",
      "metadata": {
        "id": "r8XOiu6eKQoU",
        "colab_type": "code",
        "outputId": "9227eb47-95e9-45a1-8e38-f5dc95086720",
        "colab": {
          "base_uri": "https://localhost:8080/",
          "height": 34
        }
      },
      "source": [
        "%%R\n",
        "\n",
        "n = 50\n",
        "mu = 68\n",
        "\n",
        "male_heights = round(rnorm(n, mean = 68, sd = 5))\n",
        "\n",
        "xbar = mean(male_heights)\n",
        "s = sd(male_heights)\n",
        "\n",
        "t = (xbar - mu) / (s / sqrt(n))\n",
        "\n",
        "t\n"
      ],
      "execution_count": 0,
      "outputs": [
        {
          "output_type": "display_data",
          "data": {
            "text/plain": [
              "[1] -1.300935\n"
            ]
          },
          "metadata": {
            "tags": []
          }
        }
      ]
    },
    {
      "cell_type": "code",
      "metadata": {
        "id": "ga1yX8c8LDBb",
        "colab_type": "code",
        "outputId": "593779c9-4bad-475d-88c4-36a427e3eaab",
        "colab": {
          "base_uri": "https://localhost:8080/",
          "height": 221
        }
      },
      "source": [
        "# Verify with function\n",
        "\n",
        "%%R\n",
        "\n",
        "t.test(male_heights, mu = 68)"
      ],
      "execution_count": 0,
      "outputs": [
        {
          "output_type": "display_data",
          "data": {
            "text/plain": [
              "\n",
              "\tOne Sample t-test\n",
              "\n",
              "data:  male_heights\n",
              "t = -1.3009, df = 49, p-value = 0.1994\n",
              "alternative hypothesis: true mean is not equal to 68\n",
              "95 percent confidence interval:\n",
              " 65.91333 68.44667\n",
              "sample estimates:\n",
              "mean of x \n",
              "    67.18 \n",
              "\n"
            ]
          },
          "metadata": {
            "tags": []
          }
        }
      ]
    },
    {
      "cell_type": "markdown",
      "metadata": {
        "id": "hJbtnPol69ZI",
        "colab_type": "text"
      },
      "source": [
        "# Independent Two-Sample t-tests"
      ]
    },
    {
      "cell_type": "markdown",
      "metadata": {
        "id": "VLu_ugtu7A4B",
        "colab_type": "text"
      },
      "source": [
        "## Equal Sample Size, Equal Variance\n",
        "\n",
        "Given two groups (1, 2), this test is only applicable when:\n",
        "\n",
        "- the two sample sizes (that is, the number n of participants of each group) are equal;\n",
        "- it can be assumed that the two distributions have the same variance;"
      ]
    },
    {
      "cell_type": "markdown",
      "metadata": {
        "id": "mg-4_AxZ7bsz",
        "colab_type": "text"
      },
      "source": [
        "$$t=\\frac{(\\bar{X_1}-\\bar{X_2})}{s_p{\\sqrt{\\frac{2}{n}}}}, \\ \\ where \\ \\ {\\displaystyle s_{p}={\\sqrt {\\frac {s_{X_{1}}^{2}+s_{X_{2}}^{2}}{2}}}} $$ "
      ]
    },
    {
      "cell_type": "markdown",
      "metadata": {
        "id": "U58xPLZeArJh",
        "colab_type": "text"
      },
      "source": [
        "Here $s_p$ is the pooled standard deviation for $n = n_1 = n_2$ and $s_{X1}^2$ and $s_{X2}^2$ are the unbiased estimators of the variances of the two samples. The denominator of t is the standard error of the difference between two means.\n",
        "\n",
        "For significance testing, the degrees of freedom for this test is $2n − 2$ where $n$ is the number of participants in each group."
      ]
    },
    {
      "cell_type": "code",
      "metadata": {
        "id": "kmzgUNvA7UhG",
        "colab_type": "code",
        "outputId": "dff2ef93-7af0-4a25-d7f5-b3efc1c9b8f5",
        "colab": {
          "base_uri": "https://localhost:8080/",
          "height": 34
        }
      },
      "source": [
        "%%R\n",
        "\n",
        "n = 50\n",
        "\n",
        "male_heights = round(rnorm(n, mean = 68, sd = 5))\n",
        "female_heights = round(rnorm(n, mean = 62, sd = 5))\n",
        "\n",
        "male_mu = mean(male_heights)\n",
        "male_sd = sd(male_heights)\n",
        "female_mu = mean(female_heights)\n",
        "female_sd = sd(female_heights)\n",
        "\n",
        "pooled_sd = sqrt((male_sd^2 + female_sd^2)/2)\n",
        "\n",
        "t = (male_mu - female_mu)/(pooled_sd * sqrt(2 / n))\n",
        "\n",
        "t"
      ],
      "execution_count": 0,
      "outputs": [
        {
          "output_type": "display_data",
          "data": {
            "text/plain": [
              "[1] 6.265369\n"
            ]
          },
          "metadata": {
            "tags": []
          }
        }
      ]
    },
    {
      "cell_type": "code",
      "metadata": {
        "id": "Kv581vib_ZYX",
        "colab_type": "code",
        "outputId": "dbc7511c-0e90-42f8-95aa-f7198437a0ff",
        "colab": {
          "base_uri": "https://localhost:8080/",
          "height": 221
        }
      },
      "source": [
        "# Verify with function\n",
        "\n",
        "%%R\n",
        "\n",
        "t.test(male_heights, female_heights, var.equal = T)"
      ],
      "execution_count": 0,
      "outputs": [
        {
          "output_type": "display_data",
          "data": {
            "text/plain": [
              "\n",
              "\tTwo Sample t-test\n",
              "\n",
              "data:  male_heights and female_heights\n",
              "t = 6.2654, df = 98, p-value = 9.954e-09\n",
              "alternative hypothesis: true difference in means is not equal to 0\n",
              "95 percent confidence interval:\n",
              " 4.263568 8.216432\n",
              "sample estimates:\n",
              "mean of x mean of y \n",
              "    69.18     62.94 \n",
              "\n"
            ]
          },
          "metadata": {
            "tags": []
          }
        }
      ]
    },
    {
      "cell_type": "markdown",
      "metadata": {
        "id": "IoMonFcIAeXf",
        "colab_type": "text"
      },
      "source": [
        "## Equal or Unequal sample size, equal variance"
      ]
    },
    {
      "cell_type": "markdown",
      "metadata": {
        "id": "nQEeDC5EBYKV",
        "colab_type": "text"
      },
      "source": [
        "This test is used only when it can be assumed that the two distributions have the same variance. (When this assumption is violated, see below.) Note that the previous formulae are a special case of the formulae below, one recovers them when both samples are equal in size: $n = n_1 = n_2$\n",
        "\n",
        "The t statistic to test whether the means are different can be calculated as follows:"
      ]
    },
    {
      "cell_type": "markdown",
      "metadata": {
        "id": "0A_oC2VSBvtq",
        "colab_type": "text"
      },
      "source": [
        "$$t=\\frac{(\\bar{X_1}-\\bar{X_2})}{s_p{\\sqrt{\\frac{1}{n_1} + \\frac{1}{n_2}}}}, \\ \\ where \\ \\ { s_{p}={\\sqrt { \\frac {(n_1 - 1)s_{X_{1}}^{2}+(n_2 - 1)s_{X_{2}}^{2}}{n_1 + n_2 - 2}}}} $$ \n"
      ]
    },
    {
      "cell_type": "markdown",
      "metadata": {
        "id": "svZdtH8cDu-o",
        "colab_type": "text"
      },
      "source": [
        "is an estimator of the pooled standard deviation of the two samples: it is defined in this way so that its square is an unbiased estimator of the common variance whether or not the population means are the same. In these formulae, $n_i − 1$ is the number of degrees of freedom for each group, and the total sample size minus two (that is, $n_1 + n_2 − 2$) is the total number of degrees of freedom, which is used in significance testing."
      ]
    },
    {
      "cell_type": "code",
      "metadata": {
        "id": "_j6v4V1ZDJoM",
        "colab_type": "code",
        "outputId": "76e91a42-c33c-448a-de89-08b84ba4ab53",
        "colab": {
          "base_uri": "https://localhost:8080/",
          "height": 34
        }
      },
      "source": [
        "%%R\n",
        "\n",
        "n1 = 50; n2 = 75\n",
        "\n",
        "male_heights = round(rnorm(n1, mean = 68, sd = 5))\n",
        "female_heights = round(rnorm(n2, mean = 62, sd = 5))\n",
        "\n",
        "male_mu = mean(male_heights)\n",
        "male_sd = sd(male_heights)\n",
        "female_mu = mean(female_heights)\n",
        "female_sd = sd(female_heights)\n",
        "\n",
        "pooled_sd = sqrt(((n1 - 1)*male_sd^2 + (n2 - 1)*female_sd^2)/(n1 + n2 - 2))\n",
        "\n",
        "t = (male_mu - female_mu)/(pooled_sd * sqrt((1 / n1) + (1 / n2)))\n",
        "\n",
        "t"
      ],
      "execution_count": 0,
      "outputs": [
        {
          "output_type": "display_data",
          "data": {
            "text/plain": [
              "[1] 5.448026\n"
            ]
          },
          "metadata": {
            "tags": []
          }
        }
      ]
    },
    {
      "cell_type": "code",
      "metadata": {
        "id": "BdSdeyPuDilb",
        "colab_type": "code",
        "outputId": "b314b1b3-ec86-4867-c7f7-cb26d797b2b8",
        "colab": {
          "base_uri": "https://localhost:8080/",
          "height": 221
        }
      },
      "source": [
        "# Verify with function\n",
        "\n",
        "%%R\n",
        "\n",
        "t.test(male_heights, female_heights, var.equal = T)"
      ],
      "execution_count": 0,
      "outputs": [
        {
          "output_type": "display_data",
          "data": {
            "text/plain": [
              "\n",
              "\tTwo Sample t-test\n",
              "\n",
              "data:  male_heights and female_heights\n",
              "t = 5.448, df = 123, p-value = 2.659e-07\n",
              "alternative hypothesis: true difference in means is not equal to 0\n",
              "95 percent confidence interval:\n",
              " 3.488944 7.471056\n",
              "sample estimates:\n",
              "mean of x mean of y \n",
              "    67.36     61.88 \n",
              "\n"
            ]
          },
          "metadata": {
            "tags": []
          }
        }
      ]
    },
    {
      "cell_type": "markdown",
      "metadata": {
        "id": "nl5J9K69EOtJ",
        "colab_type": "text"
      },
      "source": [
        "## Equal or unequal sample sizes, unequal variances"
      ]
    },
    {
      "cell_type": "markdown",
      "metadata": {
        "id": "cTkWrS__EPw9",
        "colab_type": "text"
      },
      "source": [
        "This test, also known as Welch's t-test, is used only when the two population variances are not assumed to be equal (the two sample sizes may or may not be equal) and hence must be estimated separately. The t statistic to test whether the population means are different is calculated as:"
      ]
    },
    {
      "cell_type": "markdown",
      "metadata": {
        "id": "ixITgJoFERfs",
        "colab_type": "text"
      },
      "source": [
        "$$t=\\frac{(\\bar{X_1}-\\bar{X_2})}{s_{\\bar{\\Delta}}}, \\ \\ where \\ \\ { s_{p}={\\sqrt { \\frac {s_{X_{1}}^{2}}{n_1} + \\frac {s_{X_{2}}^{2}}{n_2}}}} $$ \n"
      ]
    },
    {
      "cell_type": "markdown",
      "metadata": {
        "id": "KlL3PZ-iEwOQ",
        "colab_type": "text"
      },
      "source": [
        "Here $s_i^2$ is the unbiased estimator of the variance of each of the two samples with $n_i$ = number of participants in group i (1 or 2). Note that in this case $s_{\\bar{\\Delta}}^2$ is not a pooled variance. For use in significance testing, the distribution of the test statistic is approximated as an ordinary Student's t-distribution with the degrees of freedom calculated using:"
      ]
    },
    {
      "cell_type": "markdown",
      "metadata": {
        "id": "-GwZjWEPFOib",
        "colab_type": "text"
      },
      "source": [
        "$$ \\mathrm {d.f.} ={\\frac {\\left({\\frac {s_{1}^{2}}{n_{1}}}+{\\frac {s_{2}^{2}}{n_{2}}}\\right)^{2}}{{\\frac {\\left(s_{1}^{2}/n_{1}\\right)^{2}}{n_{1}-1}}+{\\frac {\\left(s_{2}^{2}/n_{2}\\right)^{2}}{n_{2}-1}}}} $$"
      ]
    },
    {
      "cell_type": "code",
      "metadata": {
        "id": "C7r6MhFeFNiT",
        "colab_type": "code",
        "outputId": "f5f02f74-dc18-4fdb-ab69-b2d9da0e6cd3",
        "colab": {
          "base_uri": "https://localhost:8080/",
          "height": 34
        }
      },
      "source": [
        "%%R\n",
        "\n",
        "n1 = 50; n2 = 75\n",
        "sd1 = 5; sd2 = 4\n",
        "\n",
        "male_heights = round(rnorm(n1, mean = 68, sd = sd1))\n",
        "female_heights = round(rnorm(n2, mean = 62, sd = sd2))\n",
        "\n",
        "male_mu = mean(male_heights)\n",
        "male_sd = sd(male_heights)\n",
        "female_mu = mean(female_heights)\n",
        "female_sd = sd(female_heights)\n",
        "\n",
        "delta_sd = sqrt((male_sd^2)/n1 + (female_sd^2)/n2)\n",
        "\n",
        "t = (male_mu - female_mu)/delta_sd\n",
        "\n",
        "t"
      ],
      "execution_count": 0,
      "outputs": [
        {
          "output_type": "display_data",
          "data": {
            "text/plain": [
              "[1] 6.676227\n"
            ]
          },
          "metadata": {
            "tags": []
          }
        }
      ]
    },
    {
      "cell_type": "code",
      "metadata": {
        "id": "5VHsO9U_GMeZ",
        "colab_type": "code",
        "outputId": "f196fea8-7981-422e-ae4b-261aad2474e5",
        "colab": {
          "base_uri": "https://localhost:8080/",
          "height": 34
        }
      },
      "source": [
        "%%R\n",
        "\n",
        "df = (((male_sd^2)/n1 + (female_sd^2)/n2)^2) / ( (((male_sd^2)/n1)^2)/(n1-1) + (((female_sd^2)/n2)^2)/(n2-1) )\n",
        "\n",
        "df"
      ],
      "execution_count": 0,
      "outputs": [
        {
          "output_type": "display_data",
          "data": {
            "text/plain": [
              "[1] 99.64269\n"
            ]
          },
          "metadata": {
            "tags": []
          }
        }
      ]
    },
    {
      "cell_type": "code",
      "metadata": {
        "id": "_F8FqDeOGJZm",
        "colab_type": "code",
        "outputId": "2576e097-7fed-4629-85f9-131037f70f86",
        "colab": {
          "base_uri": "https://localhost:8080/",
          "height": 221
        }
      },
      "source": [
        "# Verify with function\n",
        "\n",
        "%%R\n",
        "\n",
        "t.test(male_heights, female_heights, var.equal = F)"
      ],
      "execution_count": 0,
      "outputs": [
        {
          "output_type": "display_data",
          "data": {
            "text/plain": [
              "\n",
              "\tWelch Two Sample t-test\n",
              "\n",
              "data:  male_heights and female_heights\n",
              "t = 6.6762, df = 99.643, p-value = 1.406e-09\n",
              "alternative hypothesis: true difference in means is not equal to 0\n",
              "95 percent confidence interval:\n",
              " 3.917035 7.229631\n",
              "sample estimates:\n",
              "mean of x mean of y \n",
              " 67.32000  61.74667 \n",
              "\n"
            ]
          },
          "metadata": {
            "tags": []
          }
        }
      ]
    },
    {
      "cell_type": "markdown",
      "metadata": {
        "id": "9i2XicPZHn8A",
        "colab_type": "text"
      },
      "source": [
        "# Dependent t-test for paired samples"
      ]
    },
    {
      "cell_type": "markdown",
      "metadata": {
        "id": "pU0075A_HreB",
        "colab_type": "text"
      },
      "source": [
        "This test is used when the samples are dependent; that is, when there is only one sample that has been tested twice (repeated measures) or when there are two samples that have been matched or \"paired\". This is an example of a paired difference test."
      ]
    },
    {
      "cell_type": "markdown",
      "metadata": {
        "id": "xmWVKnqLHrn_",
        "colab_type": "text"
      },
      "source": [
        "$$ \n",
        "{\\displaystyle t={\\frac {{\\bar {X}}_{D}-\\mu _{0}}{\\frac {s_{D}}{\\sqrt {n}}}}.} $$"
      ]
    },
    {
      "cell_type": "markdown",
      "metadata": {
        "id": "RtQWoqI5H0NW",
        "colab_type": "text"
      },
      "source": [
        "For this equation, the differences between all pairs must be calculated. The pairs are either one person's pre-test and post-test scores or between pairs of persons matched into meaningful groups (for instance drawn from the same family or age group: see table). The average ($X_D$) and standard deviation ($s_D$) of those differences are used in the equation. The constant μ0 is zero if we want to test whether the average of the difference is significantly different. The degree of freedom used is $n − 1$, where n represents the number of pairs."
      ]
    },
    {
      "cell_type": "code",
      "metadata": {
        "id": "MK8J99C9JQhV",
        "colab_type": "code",
        "outputId": "77b87d3c-894e-43fd-875d-57967ea73e61",
        "colab": {
          "base_uri": "https://localhost:8080/",
          "height": 34
        }
      },
      "source": [
        "%%R\n",
        "\n",
        "n = 50\n",
        "mu = 0\n",
        "\n",
        "score_before = round(rnorm(n, mean = 60, sd = 10))\n",
        "score_after = score_before + round(rnorm(n, mean = 5, sd = 5))\n",
        "\n",
        "xd = mean(score_after) - mean(score_before)\n",
        "sd = sd(score_after - score_before)\n",
        "\n",
        "t = (xd - mu)/(sd / sqrt(n))\n",
        "\n",
        "t"
      ],
      "execution_count": 0,
      "outputs": [
        {
          "output_type": "display_data",
          "data": {
            "text/plain": [
              "[1] 7.540738\n"
            ]
          },
          "metadata": {
            "tags": []
          }
        }
      ]
    },
    {
      "cell_type": "code",
      "metadata": {
        "id": "ckFCClpgJ8Ys",
        "colab_type": "code",
        "outputId": "94491985-bea7-4d66-99a2-93f1fe7d1765",
        "colab": {
          "base_uri": "https://localhost:8080/",
          "height": 221
        }
      },
      "source": [
        "# Verify with function\n",
        "\n",
        "%%R\n",
        "\n",
        "t.test(score_before, score_after, paired = T)"
      ],
      "execution_count": 0,
      "outputs": [
        {
          "output_type": "display_data",
          "data": {
            "text/plain": [
              "\n",
              "\tPaired t-test\n",
              "\n",
              "data:  score_before and score_after\n",
              "t = -7.5407, df = 49, p-value = 9.685e-10\n",
              "alternative hypothesis: true difference in means is not equal to 0\n",
              "95 percent confidence interval:\n",
              " -6.20583 -3.59417\n",
              "sample estimates:\n",
              "mean of the differences \n",
              "                   -4.9 \n",
              "\n"
            ]
          },
          "metadata": {
            "tags": []
          }
        }
      ]
    }
  ]
}