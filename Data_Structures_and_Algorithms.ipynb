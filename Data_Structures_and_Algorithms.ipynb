{
  "nbformat": 4,
  "nbformat_minor": 0,
  "metadata": {
    "colab": {
      "name": "Data Structures and Algorithms",
      "provenance": [],
      "collapsed_sections": [],
      "toc_visible": true,
      "include_colab_link": true
    },
    "kernelspec": {
      "display_name": "Python 3",
      "name": "python3"
    }
  },
  "cells": [
    {
      "cell_type": "markdown",
      "metadata": {
        "id": "view-in-github",
        "colab_type": "text"
      },
      "source": [
        "<a href=\"https://colab.research.google.com/github/rjsaito/Data-Science-Essentials/blob/master/Data_Structures_and_Algorithms.ipynb\" target=\"_parent\"><img src=\"https://colab.research.google.com/assets/colab-badge.svg\" alt=\"Open In Colab\"/></a>"
      ]
    },
    {
      "cell_type": "markdown",
      "metadata": {
        "id": "5tmh8fXLdGxT",
        "colab_type": "text"
      },
      "source": [
        "# Data Structures"
      ]
    },
    {
      "cell_type": "markdown",
      "metadata": {
        "id": "CKaHRYYWhETw",
        "colab_type": "text"
      },
      "source": [
        "## Lists\n",
        "\n",
        "Lists are the simplest form of data structures. They are what they seem - a list of values. Each one of them is numbered, starting from zero - the first one is numbered zero, the second 1, the third 2, etc. You can remove values from the list, and add new values to the end. Example: Your many cats' names."
      ]
    },
    {
      "cell_type": "code",
      "metadata": {
        "id": "h8MQkgj7hGp5",
        "colab_type": "code",
        "outputId": "ef257471-9741-4a2c-f68f-af49827d8dc1",
        "colab": {
          "base_uri": "https://localhost:8080/",
          "height": 34
        }
      },
      "source": [
        "ls = [1,2,3,4,5]\n",
        "\n",
        "ls"
      ],
      "execution_count": 0,
      "outputs": [
        {
          "output_type": "execute_result",
          "data": {
            "text/plain": [
              "[1, 2, 3, 4, 5]"
            ]
          },
          "metadata": {
            "tags": []
          },
          "execution_count": 92
        }
      ]
    },
    {
      "cell_type": "markdown",
      "metadata": {
        "id": "INn-McREisV3",
        "colab_type": "text"
      },
      "source": [
        "You can change a value by index"
      ]
    },
    {
      "cell_type": "code",
      "metadata": {
        "id": "0MRoLb8tiYCn",
        "colab_type": "code",
        "outputId": "e83f22b9-4071-415e-8bf4-1d3800d172a0",
        "colab": {
          "base_uri": "https://localhost:8080/",
          "height": 34
        }
      },
      "source": [
        "ls[2] = 10\n",
        "\n",
        "ls"
      ],
      "execution_count": 0,
      "outputs": [
        {
          "output_type": "execute_result",
          "data": {
            "text/plain": [
              "[1, 2, 10, 4, 5]"
            ]
          },
          "metadata": {
            "tags": []
          },
          "execution_count": 93
        }
      ]
    },
    {
      "cell_type": "markdown",
      "metadata": {
        "id": "FwIrGhB_ksO4",
        "colab_type": "text"
      },
      "source": [
        "You can add new values"
      ]
    },
    {
      "cell_type": "code",
      "metadata": {
        "id": "YFURNtHfkuWd",
        "colab_type": "code",
        "outputId": "86ee7241-d296-434d-ecd5-2e327d0c28f0",
        "colab": {
          "base_uri": "https://localhost:8080/",
          "height": 34
        }
      },
      "source": [
        "ls.append(6)\n",
        "\n",
        "ls"
      ],
      "execution_count": 0,
      "outputs": [
        {
          "output_type": "execute_result",
          "data": {
            "text/plain": [
              "[1, 2, 10, 4, 5, 6]"
            ]
          },
          "metadata": {
            "tags": []
          },
          "execution_count": 94
        }
      ]
    },
    {
      "cell_type": "markdown",
      "metadata": {
        "id": "au1ainZtiouD",
        "colab_type": "text"
      },
      "source": [
        "You can:\n",
        "\n",
        "- Remove the first matcing value\n",
        "- Delete item at a specific index\n",
        "- Pop item at specific index and return"
      ]
    },
    {
      "cell_type": "code",
      "metadata": {
        "id": "Gf0J2No4i_3t",
        "colab_type": "code",
        "outputId": "cf0c9dd1-d4a7-4e0f-8097-0b78c2660f3a",
        "colab": {
          "base_uri": "https://localhost:8080/",
          "height": 34
        }
      },
      "source": [
        "ls.remove(10)\n",
        "\n",
        "ls"
      ],
      "execution_count": 0,
      "outputs": [
        {
          "output_type": "execute_result",
          "data": {
            "text/plain": [
              "[1, 2, 4, 5, 6]"
            ]
          },
          "metadata": {
            "tags": []
          },
          "execution_count": 95
        }
      ]
    },
    {
      "cell_type": "code",
      "metadata": {
        "id": "I7YjVk3RjJFb",
        "colab_type": "code",
        "outputId": "a0499da5-784d-45d0-dae6-2d1b898944b4",
        "colab": {
          "base_uri": "https://localhost:8080/",
          "height": 34
        }
      },
      "source": [
        "del ls[1]\n",
        "\n",
        "ls"
      ],
      "execution_count": 0,
      "outputs": [
        {
          "output_type": "execute_result",
          "data": {
            "text/plain": [
              "[1, 4, 5, 6]"
            ]
          },
          "metadata": {
            "tags": []
          },
          "execution_count": 96
        }
      ]
    },
    {
      "cell_type": "code",
      "metadata": {
        "id": "8C8u5HfwjNzn",
        "colab_type": "code",
        "outputId": "e53acc85-8813-4107-b9a4-96663a9a2125",
        "colab": {
          "base_uri": "https://localhost:8080/",
          "height": 34
        }
      },
      "source": [
        "ls.pop(1)"
      ],
      "execution_count": 0,
      "outputs": [
        {
          "output_type": "execute_result",
          "data": {
            "text/plain": [
              "4"
            ]
          },
          "metadata": {
            "tags": []
          },
          "execution_count": 97
        }
      ]
    },
    {
      "cell_type": "code",
      "metadata": {
        "id": "2TkwtxXgpaQR",
        "colab_type": "code",
        "outputId": "a69d0bcc-da44-4baf-e2c3-3b1b76ca400a",
        "colab": {
          "base_uri": "https://localhost:8080/",
          "height": 34
        }
      },
      "source": [
        "len(ls)"
      ],
      "execution_count": 0,
      "outputs": [
        {
          "output_type": "execute_result",
          "data": {
            "text/plain": [
              "3"
            ]
          },
          "metadata": {
            "tags": []
          },
          "execution_count": 98
        }
      ]
    },
    {
      "cell_type": "markdown",
      "metadata": {
        "id": "E4E4HA5NiUyq",
        "colab_type": "text"
      },
      "source": [
        "### Linked List"
      ]
    },
    {
      "cell_type": "markdown",
      "metadata": {
        "id": "UQsTu65HiS_h",
        "colab_type": "text"
      },
      "source": [
        "A linked list is a sequence of data elements, which are connected together via links. Each data element contains a connection to another data element in form of a pointer. Python does not have linked lists in its standard library. We implement the concept of linked lists using the concept of nodes as discussed in the previous chapter. We have already seen how we create a node class and how to traverse the elements of a node. In this chapter we are going to study the types of linked lists known as singly linked lists. In this type of data structure there is only one link between any two data elements. We create such a list and create additional methods to insert, update and remove elements from the list.\n",
        "\n",
        "A linked list is created by using the node class we studied in the last chapter. We create a Node object and create another class to use this node object. We pass the appropriate values thorugh the node object to point the to the next data elements. The below program creates the linked list with three data elements. In the next section we will see how to traverse the linked list."
      ]
    },
    {
      "cell_type": "code",
      "metadata": {
        "id": "SjQeNznkGlvA",
        "colab_type": "code",
        "colab": {}
      },
      "source": [
        "# Create Class Node\n",
        "# need: dataval and nextval\n",
        "class Node:\n",
        "  def __init__(self, dataval):\n",
        "    self.dataval = dataval\n",
        "    self.nextval = None\n",
        "  \n",
        "  \n",
        "# Create Class LinkedList\n",
        "# need: headval\n",
        "# also create print function\n",
        "class LinkedList:\n",
        "  def __init__(self):\n",
        "    self.headval=None\n",
        "    \n",
        "  # create printlist function with recursion\n",
        "  def printlist(self):\n",
        "    printval = self.headval\n",
        "    while printval is not None:\n",
        "      print(printval.dataval)\n",
        "      printval = printval.nextval"
      ],
      "execution_count": 0,
      "outputs": []
    },
    {
      "cell_type": "code",
      "metadata": {
        "id": "SltIvdBCHNeX",
        "colab_type": "code",
        "outputId": "f45a70c0-ffcc-4edd-ee13-71edd8f3544d",
        "colab": {
          "base_uri": "https://localhost:8080/",
          "height": 68
        }
      },
      "source": [
        "# initialize list\n",
        "lst = LinkedList()\n",
        "\n",
        "# assign node\n",
        "lst.headval = Node(\"Mon\")\n",
        "\n",
        "# create other nodes\n",
        "e2 = Node(\"Tues\")\n",
        "e3 = Node(\"Wed\")\n",
        "\n",
        "# assign and create pointers\n",
        "lst.headval.nextval = e2\n",
        "lst.headval.nextval.nextval = e3\n",
        "\n",
        "# print linked list\n",
        "lst.printlist()"
      ],
      "execution_count": 0,
      "outputs": [
        {
          "output_type": "stream",
          "text": [
            "Mon\n",
            "Tues\n",
            "Wed\n"
          ],
          "name": "stdout"
        }
      ]
    },
    {
      "cell_type": "markdown",
      "metadata": {
        "id": "XQLs5uLBiLJb",
        "colab_type": "text"
      },
      "source": [
        "## Tuples\n",
        "\n",
        "Tuples are just like lists, but you can't change their values. The values that you give it first up, are the values that you are stuck with for the rest of the program. Again, each value is numbered starting from zero, for easy reference. Example: the names of the months of the year."
      ]
    },
    {
      "cell_type": "code",
      "metadata": {
        "id": "Ndf449bJiNFB",
        "colab_type": "code",
        "colab": {}
      },
      "source": [
        "months = ('January','February','March','April','May','June',\\\n",
        "'July','August','September','October','November','  December')"
      ],
      "execution_count": 0,
      "outputs": []
    },
    {
      "cell_type": "code",
      "metadata": {
        "id": "Uy6xUBYdkfdg",
        "colab_type": "code",
        "outputId": "a29946a3-6cca-4818-c2f5-fa9617595f93",
        "colab": {
          "base_uri": "https://localhost:8080/",
          "height": 34
        }
      },
      "source": [
        "months[2]"
      ],
      "execution_count": 0,
      "outputs": [
        {
          "output_type": "execute_result",
          "data": {
            "text/plain": [
              "'March'"
            ]
          },
          "metadata": {
            "tags": []
          },
          "execution_count": 106
        }
      ]
    },
    {
      "cell_type": "code",
      "metadata": {
        "id": "pWysFcQokieG",
        "colab_type": "code",
        "colab": {}
      },
      "source": [
        "# not run\n",
        "# del months[2]"
      ],
      "execution_count": 0,
      "outputs": []
    },
    {
      "cell_type": "code",
      "metadata": {
        "id": "ECDozi0FpkSX",
        "colab_type": "code",
        "outputId": "587c85e3-ec6a-4afe-bd34-91088008d8db",
        "colab": {
          "base_uri": "https://localhost:8080/",
          "height": 34
        }
      },
      "source": [
        "len(months)"
      ],
      "execution_count": 0,
      "outputs": [
        {
          "output_type": "execute_result",
          "data": {
            "text/plain": [
              "12"
            ]
          },
          "metadata": {
            "tags": []
          },
          "execution_count": 108
        }
      ]
    },
    {
      "cell_type": "markdown",
      "metadata": {
        "id": "BuKW1r02kaIo",
        "colab_type": "text"
      },
      "source": [
        "## Dictionaries\n",
        "\n",
        "Dictionaries are similar to what their name suggests - a dictionary. In a dictionary, you have an 'index' of words, and for each of them a definition. In python, the word is called a 'key', and the definition a 'value'. The values in a dictionary aren't numbered - tare similar to what their name suggests - a dictionary. In a dictionary, you have an 'index' of words, and for each of them a definition. In python, the word is called a 'key', and the definition a 'value'. The values in a dictionary aren't numbered - they aren't in any specific order, either - the key does the same thing. You can add, remove, and modify the values in dictionaries.\n",
        "\n",
        "When you initially create a dictionary, it is very much like making a tuple or list. Tuples have ( and ) things, lists have [ and ] things. Guess what! dictionaries have { and } things - curly braces. Here is an example below, showing a dictionary with four phone numbers in it."
      ]
    },
    {
      "cell_type": "code",
      "metadata": {
        "id": "sdxZxFFTltRs",
        "colab_type": "code",
        "outputId": "12dd0eac-9ec0-416b-a84d-7a877a59b873",
        "colab": {
          "base_uri": "https://localhost:8080/",
          "height": 85
        }
      },
      "source": [
        "#Make a phone book:\n",
        "\n",
        "phonebook = {\n",
        "'Andrew Parson':8806336, \n",
        "'Emily Everett':6784346, \n",
        "'Peter Power':7658344, \n",
        "'Lewis Lame':1122345\n",
        "}\n",
        "\n",
        "phonebook"
      ],
      "execution_count": 0,
      "outputs": [
        {
          "output_type": "execute_result",
          "data": {
            "text/plain": [
              "{'Andrew Parson': 8806336,\n",
              " 'Emily Everett': 6784346,\n",
              " 'Lewis Lame': 1122345,\n",
              " 'Peter Power': 7658344}"
            ]
          },
          "metadata": {
            "tags": []
          },
          "execution_count": 109
        }
      ]
    },
    {
      "cell_type": "markdown",
      "metadata": {
        "id": "lkRg8to5mJ7R",
        "colab_type": "text"
      },
      "source": [
        "Add the person 'Gingerbread Man' to the phonebook:"
      ]
    },
    {
      "cell_type": "code",
      "metadata": {
        "id": "_HLXd01plyUZ",
        "colab_type": "code",
        "outputId": "77ee5007-f567-4f68-a933-bb50ef953d6e",
        "colab": {
          "base_uri": "https://localhost:8080/",
          "height": 102
        }
      },
      "source": [
        "phonebook['Gingerbread Man'] = 1234567\n",
        "\n",
        "phonebook"
      ],
      "execution_count": 0,
      "outputs": [
        {
          "output_type": "execute_result",
          "data": {
            "text/plain": [
              "{'Andrew Parson': 8806336,\n",
              " 'Emily Everett': 6784346,\n",
              " 'Gingerbread Man': 1234567,\n",
              " 'Lewis Lame': 1122345,\n",
              " 'Peter Power': 7658344}"
            ]
          },
          "metadata": {
            "tags": []
          },
          "execution_count": 110
        }
      ]
    },
    {
      "cell_type": "markdown",
      "metadata": {
        "id": "l65iimksmh1e",
        "colab_type": "text"
      },
      "source": [
        "Delete entry"
      ]
    },
    {
      "cell_type": "code",
      "metadata": {
        "id": "bWtdTa44mix5",
        "colab_type": "code",
        "outputId": "04e27243-1ec0-449d-8948-e19aff146a48",
        "colab": {
          "base_uri": "https://localhost:8080/",
          "height": 85
        }
      },
      "source": [
        "del phonebook['Andrew Parson']\n",
        "\n",
        "phonebook"
      ],
      "execution_count": 0,
      "outputs": [
        {
          "output_type": "execute_result",
          "data": {
            "text/plain": [
              "{'Emily Everett': 6784346,\n",
              " 'Gingerbread Man': 1234567,\n",
              " 'Lewis Lame': 1122345,\n",
              " 'Peter Power': 7658344}"
            ]
          },
          "metadata": {
            "tags": []
          },
          "execution_count": 111
        }
      ]
    },
    {
      "cell_type": "code",
      "metadata": {
        "id": "jOjllKh2pm6c",
        "colab_type": "code",
        "outputId": "a963513c-4ca8-455f-d695-3016a7565938",
        "colab": {
          "base_uri": "https://localhost:8080/",
          "height": 34
        }
      },
      "source": [
        "len(phonebook)"
      ],
      "execution_count": 0,
      "outputs": [
        {
          "output_type": "execute_result",
          "data": {
            "text/plain": [
              "4"
            ]
          },
          "metadata": {
            "tags": []
          },
          "execution_count": 112
        }
      ]
    },
    {
      "cell_type": "markdown",
      "metadata": {
        "id": "RQNFtQV2Zpzg",
        "colab_type": "text"
      },
      "source": [
        "Use f-string"
      ]
    },
    {
      "cell_type": "code",
      "metadata": {
        "id": "Zb5FhaqSYs7W",
        "colab_type": "code",
        "outputId": "fc52d99b-fe89-4eb7-b8bf-4ead462c2917",
        "colab": {
          "base_uri": "https://localhost:8080/",
          "height": 34
        }
      },
      "source": [
        "if 'Peter Power' in phonebook:\n",
        "    print(f'Peter Power has number {phonebook[\"Peter Power\"]}')"
      ],
      "execution_count": 0,
      "outputs": [
        {
          "output_type": "stream",
          "text": [
            "Peter Power has number 7658344\n"
          ],
          "name": "stdout"
        }
      ]
    },
    {
      "cell_type": "markdown",
      "metadata": {
        "id": "uxxs2OwahUBE",
        "colab_type": "text"
      },
      "source": [
        "## Arrays (Numpy) \n",
        "\n",
        "Consider Arrays over Lists / Dictionaries if\n",
        "\n",
        "- Your data is 2-dimensional (or higher). Although nested dictionaries/lists can be used to represent multi-dimensional data, in most situations numpy arrays will be more efficient.\n",
        "- You have to perform a bunch of numerical calculations. As already pointed out by zhqiat, numpy will give a significant speed-up in this case. Furthermore numpy arrays come bundled with a large amount of mathematical functions.\n",
        "\n",
        "More on arrays: https://chrisalbon.com/"
      ]
    },
    {
      "cell_type": "markdown",
      "metadata": {
        "id": "NbYQHl4RopCh",
        "colab_type": "text"
      },
      "source": [
        "### Create\n",
        "- Vector\n",
        "- Matrix\n",
        "- Tensor\n",
        "- Sparse Matrix\n"
      ]
    },
    {
      "cell_type": "code",
      "metadata": {
        "id": "RbezabWYop6p",
        "colab_type": "code",
        "outputId": "24f3e306-4b55-4f62-fc5d-f91719a06898",
        "colab": {
          "base_uri": "https://localhost:8080/",
          "height": 425
        }
      },
      "source": [
        "import numpy as np\n",
        "\n",
        "vector = np.array([1, 2, 3, 4, 5, 6])\n",
        "\n",
        "matrix = np.array([[1, 2, 3],\n",
        "                   [4, 5, 6],\n",
        "                   [7, 8, 2]])\n",
        "\n",
        "tensor = np.array([\n",
        "                    [[[1, 1], [1, 1]], [[2, 2], [2, 2]]],\n",
        "                    [[[3, 3], [3, 3]], [[4, 4], [4, 4]]]\n",
        "                  ])\n",
        "\n",
        "print(\"Vector\")\n",
        "print(vector)\n",
        "print(vector.shape)\n",
        "print(\"\\nMatrix\")\n",
        "print(matrix)\n",
        "print(matrix.shape)\n",
        "print(\"\\nTensor\")\n",
        "print(tensor)\n",
        "print(tensor.shape)"
      ],
      "execution_count": 0,
      "outputs": [
        {
          "output_type": "stream",
          "text": [
            "Vector\n",
            "[1 2 3 4 5 6]\n",
            "(6,)\n",
            "\n",
            "Matrix\n",
            "[[1 2 3]\n",
            " [4 5 6]\n",
            " [7 8 2]]\n",
            "(3, 3)\n",
            "\n",
            "Tensor\n",
            "[[[[1 1]\n",
            "   [1 1]]\n",
            "\n",
            "  [[2 2]\n",
            "   [2 2]]]\n",
            "\n",
            "\n",
            " [[[3 3]\n",
            "   [3 3]]\n",
            "\n",
            "  [[4 4]\n",
            "   [4 4]]]]\n",
            "(2, 2, 2, 2)\n"
          ],
          "name": "stdout"
        }
      ]
    },
    {
      "cell_type": "code",
      "metadata": {
        "id": "QUiMGlg42PTb",
        "colab_type": "code",
        "outputId": "d9b3ddc3-558c-4dee-ddad-f55c65fc0046",
        "colab": {
          "base_uri": "https://localhost:8080/",
          "height": 34
        }
      },
      "source": [
        "# create sparse matrix\n",
        "from scipy import sparse\n",
        "\n",
        "matrix = np.array([\n",
        "    [0,0], \n",
        "    [0,1], \n",
        "    [3,0]]\n",
        ")\n",
        "\n",
        "# create compressed matrix\n",
        "matrix_sparse = sparse.csr_matrix(matrix)\n",
        "print(*matrix_sparse,)"
      ],
      "execution_count": 0,
      "outputs": [
        {
          "output_type": "stream",
          "text": [
            "   (0, 1)\t1   (0, 0)\t3\n"
          ],
          "name": "stdout"
        }
      ]
    },
    {
      "cell_type": "markdown",
      "metadata": {
        "id": "_7v68OK-p535",
        "colab_type": "text"
      },
      "source": [
        "### Tranpose"
      ]
    },
    {
      "cell_type": "code",
      "metadata": {
        "id": "LS4h4zR9p4t9",
        "colab_type": "code",
        "outputId": "150a665e-02d9-4f75-c1ee-bbe859d51768",
        "colab": {
          "base_uri": "https://localhost:8080/",
          "height": 68
        }
      },
      "source": [
        "print(vector.T)\n",
        "print(matrix.T)"
      ],
      "execution_count": 0,
      "outputs": [
        {
          "output_type": "stream",
          "text": [
            "[1 2 3 4 5 6]\n",
            "[[0 0 3]\n",
            " [0 1 0]]\n"
          ],
          "name": "stdout"
        }
      ]
    },
    {
      "cell_type": "markdown",
      "metadata": {
        "id": "2I5hM4QWrrpv",
        "colab_type": "text"
      },
      "source": [
        "### Reshape"
      ]
    },
    {
      "cell_type": "code",
      "metadata": {
        "id": "waRPVZfrrvfq",
        "colab_type": "code",
        "outputId": "4a768735-a935-47ea-fcfa-305e68713ba8",
        "colab": {
          "base_uri": "https://localhost:8080/",
          "height": 51
        }
      },
      "source": [
        "vector.reshape(2, 3)"
      ],
      "execution_count": 0,
      "outputs": [
        {
          "output_type": "execute_result",
          "data": {
            "text/plain": [
              "array([[1, 2, 3],\n",
              "       [4, 5, 6]])"
            ]
          },
          "metadata": {
            "tags": []
          },
          "execution_count": 117
        }
      ]
    },
    {
      "cell_type": "code",
      "metadata": {
        "id": "Wdoc8wmMtTKg",
        "colab_type": "code",
        "outputId": "7de8eb1a-f27e-49ef-fc50-15b50a15f2a8",
        "colab": {
          "base_uri": "https://localhost:8080/",
          "height": 34
        }
      },
      "source": [
        "matrix.flatten()"
      ],
      "execution_count": 0,
      "outputs": [
        {
          "output_type": "execute_result",
          "data": {
            "text/plain": [
              "array([0, 0, 0, 1, 3, 0])"
            ]
          },
          "metadata": {
            "tags": []
          },
          "execution_count": 118
        }
      ]
    },
    {
      "cell_type": "markdown",
      "metadata": {
        "id": "Ed88NsPhsCpr",
        "colab_type": "text"
      },
      "source": [
        "### Invert"
      ]
    },
    {
      "cell_type": "code",
      "metadata": {
        "id": "56AZGwLssCHS",
        "colab_type": "code",
        "colab": {}
      },
      "source": [
        "#np.linalg.inv(matrix)"
      ],
      "execution_count": 0,
      "outputs": []
    },
    {
      "cell_type": "markdown",
      "metadata": {
        "id": "8ODlY0cydPCr",
        "colab_type": "text"
      },
      "source": [
        "## Series (Pandas)\n",
        "\n",
        "Series is a one-dimensional labeled array capable of holding any data type (integers, strings, floating point numbers, Python objects, etc.). The axis labels are collectively referred to as the index.\n",
        "\n",
        "The pandas series object can be seen as an enhanced numpy 1D array and the pandas dataframe can be seen as an enhanced numpy 2D array. The main difference is that pandas series and pandas dataframes has explicit index, while numpy arrays has implicit indexation\n",
        "\n",
        "You can pass:\n",
        "- a Python dict\n",
        "- an ndarray\n",
        "- a scalar value (like 5)"
      ]
    },
    {
      "cell_type": "code",
      "metadata": {
        "id": "UGR44OdfdGBL",
        "colab_type": "code",
        "colab": {}
      },
      "source": [
        "import numpy as np\n",
        "import pandas as pd"
      ],
      "execution_count": 0,
      "outputs": []
    },
    {
      "cell_type": "code",
      "metadata": {
        "id": "PbW6O2YWd0S1",
        "colab_type": "code",
        "outputId": "96c162ae-65ff-42e9-e3ba-39b9103a10a0",
        "colab": {
          "base_uri": "https://localhost:8080/",
          "height": 136
        }
      },
      "source": [
        "s = pd.Series([1, 3, 5, np.nan, 6, 8])\n",
        "\n",
        "s"
      ],
      "execution_count": 0,
      "outputs": [
        {
          "output_type": "execute_result",
          "data": {
            "text/plain": [
              "0    1.0\n",
              "1    3.0\n",
              "2    5.0\n",
              "3    NaN\n",
              "4    6.0\n",
              "5    8.0\n",
              "dtype: float64"
            ]
          },
          "metadata": {
            "tags": []
          },
          "execution_count": 121
        }
      ]
    },
    {
      "cell_type": "code",
      "metadata": {
        "id": "Upog1APjeYF7",
        "colab_type": "code",
        "outputId": "10177299-3958-41d9-d4ed-272ff7a2fd30",
        "colab": {
          "base_uri": "https://localhost:8080/",
          "height": 34
        }
      },
      "source": [
        "s.index"
      ],
      "execution_count": 0,
      "outputs": [
        {
          "output_type": "execute_result",
          "data": {
            "text/plain": [
              "RangeIndex(start=0, stop=6, step=1)"
            ]
          },
          "metadata": {
            "tags": []
          },
          "execution_count": 122
        }
      ]
    },
    {
      "cell_type": "code",
      "metadata": {
        "id": "8h5sEP01ec_Z",
        "colab_type": "code",
        "outputId": "30ad33c0-6d0e-47f3-d3ea-c8ee2aac42c4",
        "colab": {
          "base_uri": "https://localhost:8080/",
          "height": 34
        }
      },
      "source": [
        "s[0] + s[1]"
      ],
      "execution_count": 0,
      "outputs": [
        {
          "output_type": "execute_result",
          "data": {
            "text/plain": [
              "4.0"
            ]
          },
          "metadata": {
            "tags": []
          },
          "execution_count": 123
        }
      ]
    },
    {
      "cell_type": "code",
      "metadata": {
        "id": "9xiGKMRjeSC-",
        "colab_type": "code",
        "outputId": "64e47f78-c69f-4d8d-ef91-d91feaa6b7d5",
        "colab": {
          "base_uri": "https://localhost:8080/",
          "height": 119
        }
      },
      "source": [
        "s = pd.Series(np.random.randn(5), index=['a', 'b', 'c', 'd', 'e'])\n",
        "\n",
        "s"
      ],
      "execution_count": 0,
      "outputs": [
        {
          "output_type": "execute_result",
          "data": {
            "text/plain": [
              "a   -0.795524\n",
              "b   -1.557781\n",
              "c    0.711613\n",
              "d   -0.770555\n",
              "e   -1.249258\n",
              "dtype: float64"
            ]
          },
          "metadata": {
            "tags": []
          },
          "execution_count": 124
        }
      ]
    },
    {
      "cell_type": "code",
      "metadata": {
        "id": "i6GiaO04eZoc",
        "colab_type": "code",
        "outputId": "fe3e8f50-49ee-4b32-ff17-56abdbc918f7",
        "colab": {
          "base_uri": "https://localhost:8080/",
          "height": 34
        }
      },
      "source": [
        "s.index"
      ],
      "execution_count": 0,
      "outputs": [
        {
          "output_type": "execute_result",
          "data": {
            "text/plain": [
              "Index(['a', 'b', 'c', 'd', 'e'], dtype='object')"
            ]
          },
          "metadata": {
            "tags": []
          },
          "execution_count": 125
        }
      ]
    },
    {
      "cell_type": "code",
      "metadata": {
        "id": "41Yvc8dpgk5E",
        "colab_type": "code",
        "outputId": "e2c79c64-418e-49ab-9d23-3af615d447ce",
        "colab": {
          "base_uri": "https://localhost:8080/",
          "height": 34
        }
      },
      "source": [
        "s['a']"
      ],
      "execution_count": 0,
      "outputs": [
        {
          "output_type": "execute_result",
          "data": {
            "text/plain": [
              "-0.7955237589649377"
            ]
          },
          "metadata": {
            "tags": []
          },
          "execution_count": 126
        }
      ]
    },
    {
      "cell_type": "code",
      "metadata": {
        "id": "vQLIbq2ZgnIb",
        "colab_type": "code",
        "outputId": "4b97101c-6648-45e2-9fcf-7bf9e2915489",
        "colab": {
          "base_uri": "https://localhost:8080/",
          "height": 34
        }
      },
      "source": [
        "s[0]"
      ],
      "execution_count": 0,
      "outputs": [
        {
          "output_type": "execute_result",
          "data": {
            "text/plain": [
              "-0.7955237589649377"
            ]
          },
          "metadata": {
            "tags": []
          },
          "execution_count": 127
        }
      ]
    },
    {
      "cell_type": "markdown",
      "metadata": {
        "id": "_aGub3cKvrjN",
        "colab_type": "text"
      },
      "source": [
        "## Dataframes (Pandas)"
      ]
    },
    {
      "cell_type": "code",
      "metadata": {
        "id": "IrwDCcgLvthK",
        "colab_type": "code",
        "outputId": "7b4ef783-d08d-4d6e-fcfd-88c5291f7408",
        "colab": {
          "base_uri": "https://localhost:8080/",
          "height": 187
        }
      },
      "source": [
        "city_names = pd.Series(['San Francisco', 'San Jose', 'Austin'])\n",
        "state = pd.Categorical(['California', 'California', 'Texas'])\n",
        "population = np.array([852469, 1015785, 485199])\n",
        "\n",
        "city = pd.DataFrame({ 'City name': city_names, 'State': state,  'Population': population })\n",
        "\n",
        "print(city)\n",
        "print(\"\\n\")\n",
        "print(city.dtypes)\n",
        "\n"
      ],
      "execution_count": 0,
      "outputs": [
        {
          "output_type": "stream",
          "text": [
            "       City name  Population       State\n",
            "0  San Francisco      852469  California\n",
            "1       San Jose     1015785  California\n",
            "2         Austin      485199       Texas\n",
            "\n",
            "\n",
            "City name       object\n",
            "Population       int64\n",
            "State         category\n",
            "dtype: object\n"
          ],
          "name": "stdout"
        }
      ]
    },
    {
      "cell_type": "code",
      "metadata": {
        "id": "d53VwVxotdqH",
        "colab_type": "code",
        "colab": {}
      },
      "source": [
        ""
      ],
      "execution_count": 0,
      "outputs": []
    },
    {
      "cell_type": "code",
      "metadata": {
        "id": "esmY1mEmYSl-",
        "colab_type": "code",
        "outputId": "0fe249cc-6dba-454d-a2f8-89638d325ae4",
        "colab": {
          "base_uri": "https://localhost:8080/",
          "height": 34
        }
      },
      "source": [
        "city.to_json()"
      ],
      "execution_count": 0,
      "outputs": [
        {
          "output_type": "execute_result",
          "data": {
            "text/plain": [
              "'{\"City name\":{\"0\":\"San Francisco\",\"1\":\"San Jose\",\"2\":\"Austin\"},\"Population\":{\"0\":852469,\"1\":1015785,\"2\":485199},\"State\":{\"0\":\"California\",\"1\":\"California\",\"2\":\"Texas\"}}'"
            ]
          },
          "metadata": {
            "tags": []
          },
          "execution_count": 129
        }
      ]
    },
    {
      "cell_type": "markdown",
      "metadata": {
        "id": "ovmRUfKRN2NJ",
        "colab_type": "text"
      },
      "source": [
        "### Pandas Operations"
      ]
    },
    {
      "cell_type": "code",
      "metadata": {
        "id": "Vn5FMePpN61o",
        "colab_type": "code",
        "outputId": "05b4d380-ed4d-4197-a141-a53c1f80540e",
        "colab": {
          "base_uri": "https://localhost:8080/",
          "height": 142
        }
      },
      "source": [
        "# Select\n",
        "city[['State', 'Population']]"
      ],
      "execution_count": 0,
      "outputs": [
        {
          "output_type": "execute_result",
          "data": {
            "text/html": [
              "<div>\n",
              "<style scoped>\n",
              "    .dataframe tbody tr th:only-of-type {\n",
              "        vertical-align: middle;\n",
              "    }\n",
              "\n",
              "    .dataframe tbody tr th {\n",
              "        vertical-align: top;\n",
              "    }\n",
              "\n",
              "    .dataframe thead th {\n",
              "        text-align: right;\n",
              "    }\n",
              "</style>\n",
              "<table border=\"1\" class=\"dataframe\">\n",
              "  <thead>\n",
              "    <tr style=\"text-align: right;\">\n",
              "      <th></th>\n",
              "      <th>State</th>\n",
              "      <th>Population</th>\n",
              "    </tr>\n",
              "  </thead>\n",
              "  <tbody>\n",
              "    <tr>\n",
              "      <th>0</th>\n",
              "      <td>California</td>\n",
              "      <td>852469</td>\n",
              "    </tr>\n",
              "    <tr>\n",
              "      <th>1</th>\n",
              "      <td>California</td>\n",
              "      <td>1015785</td>\n",
              "    </tr>\n",
              "    <tr>\n",
              "      <th>2</th>\n",
              "      <td>Texas</td>\n",
              "      <td>485199</td>\n",
              "    </tr>\n",
              "  </tbody>\n",
              "</table>\n",
              "</div>"
            ],
            "text/plain": [
              "        State  Population\n",
              "0  California      852469\n",
              "1  California     1015785\n",
              "2       Texas      485199"
            ]
          },
          "metadata": {
            "tags": []
          },
          "execution_count": 141
        }
      ]
    },
    {
      "cell_type": "code",
      "metadata": {
        "id": "IJrsGOJPOaXb",
        "colab_type": "code",
        "outputId": "1a1181f4-2437-450c-ccbf-198f8a4a4b74",
        "colab": {
          "base_uri": "https://localhost:8080/",
          "height": 111
        }
      },
      "source": [
        "# Filter\n",
        "city.query('State == \"California\"')"
      ],
      "execution_count": 0,
      "outputs": [
        {
          "output_type": "execute_result",
          "data": {
            "text/html": [
              "<div>\n",
              "<style scoped>\n",
              "    .dataframe tbody tr th:only-of-type {\n",
              "        vertical-align: middle;\n",
              "    }\n",
              "\n",
              "    .dataframe tbody tr th {\n",
              "        vertical-align: top;\n",
              "    }\n",
              "\n",
              "    .dataframe thead th {\n",
              "        text-align: right;\n",
              "    }\n",
              "</style>\n",
              "<table border=\"1\" class=\"dataframe\">\n",
              "  <thead>\n",
              "    <tr style=\"text-align: right;\">\n",
              "      <th></th>\n",
              "      <th>City name</th>\n",
              "      <th>Population</th>\n",
              "      <th>State</th>\n",
              "    </tr>\n",
              "  </thead>\n",
              "  <tbody>\n",
              "    <tr>\n",
              "      <th>0</th>\n",
              "      <td>San Francisco</td>\n",
              "      <td>852469</td>\n",
              "      <td>California</td>\n",
              "    </tr>\n",
              "    <tr>\n",
              "      <th>1</th>\n",
              "      <td>San Jose</td>\n",
              "      <td>1015785</td>\n",
              "      <td>California</td>\n",
              "    </tr>\n",
              "  </tbody>\n",
              "</table>\n",
              "</div>"
            ],
            "text/plain": [
              "       City name  Population       State\n",
              "0  San Francisco      852469  California\n",
              "1       San Jose     1015785  California"
            ]
          },
          "metadata": {
            "tags": []
          },
          "execution_count": 142
        }
      ]
    },
    {
      "cell_type": "code",
      "metadata": {
        "id": "sWrF0BgEOh8O",
        "colab_type": "code",
        "outputId": "a547046b-0405-4ac8-e81b-8d41d40223b8",
        "colab": {
          "base_uri": "https://localhost:8080/",
          "height": 142
        }
      },
      "source": [
        "# Arrange\n",
        "city.sort_values('Population')"
      ],
      "execution_count": 0,
      "outputs": [
        {
          "output_type": "execute_result",
          "data": {
            "text/html": [
              "<div>\n",
              "<style scoped>\n",
              "    .dataframe tbody tr th:only-of-type {\n",
              "        vertical-align: middle;\n",
              "    }\n",
              "\n",
              "    .dataframe tbody tr th {\n",
              "        vertical-align: top;\n",
              "    }\n",
              "\n",
              "    .dataframe thead th {\n",
              "        text-align: right;\n",
              "    }\n",
              "</style>\n",
              "<table border=\"1\" class=\"dataframe\">\n",
              "  <thead>\n",
              "    <tr style=\"text-align: right;\">\n",
              "      <th></th>\n",
              "      <th>City name</th>\n",
              "      <th>Population</th>\n",
              "      <th>State</th>\n",
              "    </tr>\n",
              "  </thead>\n",
              "  <tbody>\n",
              "    <tr>\n",
              "      <th>2</th>\n",
              "      <td>Austin</td>\n",
              "      <td>485199</td>\n",
              "      <td>Texas</td>\n",
              "    </tr>\n",
              "    <tr>\n",
              "      <th>0</th>\n",
              "      <td>San Francisco</td>\n",
              "      <td>852469</td>\n",
              "      <td>California</td>\n",
              "    </tr>\n",
              "    <tr>\n",
              "      <th>1</th>\n",
              "      <td>San Jose</td>\n",
              "      <td>1015785</td>\n",
              "      <td>California</td>\n",
              "    </tr>\n",
              "  </tbody>\n",
              "</table>\n",
              "</div>"
            ],
            "text/plain": [
              "       City name  Population       State\n",
              "2         Austin      485199       Texas\n",
              "0  San Francisco      852469  California\n",
              "1       San Jose     1015785  California"
            ]
          },
          "metadata": {
            "tags": []
          },
          "execution_count": 139
        }
      ]
    },
    {
      "cell_type": "code",
      "metadata": {
        "id": "26GDbo5EOseL",
        "colab_type": "code",
        "outputId": "9c5b94b8-b449-4542-95f6-5d5e62230f00",
        "colab": {
          "base_uri": "https://localhost:8080/",
          "height": 207
        }
      },
      "source": [
        "# Group by Sum\n",
        "city.groupby('State').agg({'Population' : {'mean_pop' : 'mean', 'sum_pop' : 'sum'}}) # pass dict to specifiy column name"
      ],
      "execution_count": 0,
      "outputs": [
        {
          "output_type": "stream",
          "text": [
            "/usr/local/lib/python3.6/dist-packages/pandas/core/groupby.py:4291: FutureWarning: using a dict with renaming is deprecated and will be removed in a future version\n",
            "  return super(DataFrameGroupBy, self).aggregate(arg, *args, **kwargs)\n"
          ],
          "name": "stderr"
        },
        {
          "output_type": "execute_result",
          "data": {
            "text/html": [
              "<div>\n",
              "<style scoped>\n",
              "    .dataframe tbody tr th:only-of-type {\n",
              "        vertical-align: middle;\n",
              "    }\n",
              "\n",
              "    .dataframe tbody tr th {\n",
              "        vertical-align: top;\n",
              "    }\n",
              "\n",
              "    .dataframe thead tr th {\n",
              "        text-align: left;\n",
              "    }\n",
              "\n",
              "    .dataframe thead tr:last-of-type th {\n",
              "        text-align: right;\n",
              "    }\n",
              "</style>\n",
              "<table border=\"1\" class=\"dataframe\">\n",
              "  <thead>\n",
              "    <tr>\n",
              "      <th></th>\n",
              "      <th colspan=\"2\" halign=\"left\">Population</th>\n",
              "    </tr>\n",
              "    <tr>\n",
              "      <th></th>\n",
              "      <th>mean_pop</th>\n",
              "      <th>sum_pop</th>\n",
              "    </tr>\n",
              "    <tr>\n",
              "      <th>State</th>\n",
              "      <th></th>\n",
              "      <th></th>\n",
              "    </tr>\n",
              "  </thead>\n",
              "  <tbody>\n",
              "    <tr>\n",
              "      <th>California</th>\n",
              "      <td>934127</td>\n",
              "      <td>1868254</td>\n",
              "    </tr>\n",
              "    <tr>\n",
              "      <th>Texas</th>\n",
              "      <td>485199</td>\n",
              "      <td>485199</td>\n",
              "    </tr>\n",
              "  </tbody>\n",
              "</table>\n",
              "</div>"
            ],
            "text/plain": [
              "           Population         \n",
              "             mean_pop  sum_pop\n",
              "State                         \n",
              "California     934127  1868254\n",
              "Texas          485199   485199"
            ]
          },
          "metadata": {
            "tags": []
          },
          "execution_count": 144
        }
      ]
    },
    {
      "cell_type": "markdown",
      "metadata": {
        "id": "PMrkX9BDtN0g",
        "colab_type": "text"
      },
      "source": [
        "# Operations"
      ]
    },
    {
      "cell_type": "markdown",
      "metadata": {
        "id": "UmgXLjdrtQCx",
        "colab_type": "text"
      },
      "source": [
        "## In-line Loop"
      ]
    },
    {
      "cell_type": "code",
      "metadata": {
        "id": "tWH8CXw1tTyT",
        "colab_type": "code",
        "outputId": "9f95d712-c575-478c-e47d-2de154231df9",
        "colab": {
          "base_uri": "https://localhost:8080/",
          "height": 34
        }
      },
      "source": [
        "# create tuple\n",
        "tup = ('Abby', 'Chris', 'Deb')\n",
        "tup"
      ],
      "execution_count": 0,
      "outputs": [
        {
          "output_type": "execute_result",
          "data": {
            "text/plain": [
              "('Abby', 'Chris', 'Deb')"
            ]
          },
          "metadata": {
            "tags": []
          },
          "execution_count": 130
        }
      ]
    },
    {
      "cell_type": "code",
      "metadata": {
        "id": "Pj9UnPTBtVqa",
        "colab_type": "code",
        "outputId": "c671cea1-2eeb-44a9-ef69-f692938e7213",
        "colab": {
          "base_uri": "https://localhost:8080/",
          "height": 34
        }
      },
      "source": [
        "any(t == 'Abby' for t in tup)"
      ],
      "execution_count": 0,
      "outputs": [
        {
          "output_type": "execute_result",
          "data": {
            "text/plain": [
              "True"
            ]
          },
          "metadata": {
            "tags": []
          },
          "execution_count": 131
        }
      ]
    },
    {
      "cell_type": "markdown",
      "metadata": {
        "id": "cnU_IVCJtgZV",
        "colab_type": "text"
      },
      "source": [
        "## Lambda Function\n",
        "\n",
        "Why Use Lambda Functions?\n",
        "The power of lambda is better shown when you use them as an anonymous function inside another function.\n",
        "\n",
        "Say you have a function definition that takes one argument, and that argument will be multiplied with an unknown number:"
      ]
    },
    {
      "cell_type": "code",
      "metadata": {
        "id": "rjidm-Rvum-2",
        "colab_type": "code",
        "colab": {}
      },
      "source": [
        "def myfunc(n):\n",
        "  return lambda a : a * n"
      ],
      "execution_count": 0,
      "outputs": []
    },
    {
      "cell_type": "markdown",
      "metadata": {
        "id": "ou6H-Tmqupkb",
        "colab_type": "text"
      },
      "source": [
        "Use that function definition to make a function that always doubles the number you send in:"
      ]
    },
    {
      "cell_type": "code",
      "metadata": {
        "id": "khax5T4LupzU",
        "colab_type": "code",
        "outputId": "dda5fc4a-d8c8-4eda-9456-1893bfbbdee7",
        "colab": {
          "base_uri": "https://localhost:8080/",
          "height": 34
        }
      },
      "source": [
        "# create a lambda function by passing on value of n\n",
        "mydoubler = myfunc(2)\n",
        "\n",
        "print(mydoubler(11))"
      ],
      "execution_count": 0,
      "outputs": [
        {
          "output_type": "stream",
          "text": [
            "22\n"
          ],
          "name": "stdout"
        }
      ]
    },
    {
      "cell_type": "markdown",
      "metadata": {
        "id": "CLJRvy1nvyr7",
        "colab_type": "text"
      },
      "source": [
        "## Map Function\n",
        "\n",
        "map functions expects a function object and any number of iterables like list, dictionary, etc. It executes the function_object for each element in the sequence and returns a list of the elements modified by the function object."
      ]
    },
    {
      "cell_type": "code",
      "metadata": {
        "id": "aaw3sdkxv0Sb",
        "colab_type": "code",
        "outputId": "a806a8f0-8dd6-4b52-ec8b-c46dd309955f",
        "colab": {
          "base_uri": "https://localhost:8080/",
          "height": 34
        }
      },
      "source": [
        "def multiply2(x):\n",
        "  return x * 2\n",
        "  \n",
        "# unpacking generalization with asterisk  \n",
        "out = *map(multiply2, [1, 2, 3, 4]),  # Output [2, 4, 6, 8]\n",
        "out"
      ],
      "execution_count": 0,
      "outputs": [
        {
          "output_type": "execute_result",
          "data": {
            "text/plain": [
              "(2, 4, 6, 8)"
            ]
          },
          "metadata": {
            "tags": []
          },
          "execution_count": 134
        }
      ]
    },
    {
      "cell_type": "markdown",
      "metadata": {
        "id": "Wjvv5qGEXl7T",
        "colab_type": "text"
      },
      "source": [
        "## Zip Function\n",
        "\n",
        "The zip() function take iterables (can be zero or more), makes iterator that aggregates elements based on the iterables passed, and returns an iterator of tuples."
      ]
    },
    {
      "cell_type": "code",
      "metadata": {
        "id": "4mg90fcYxaGy",
        "colab_type": "code",
        "outputId": "50985814-d8ec-42cc-96ee-8f89fe5f473b",
        "colab": {
          "base_uri": "https://localhost:8080/",
          "height": 34
        }
      },
      "source": [
        "numberList = [1, 2, 3]\n",
        "strList = ['one', 'two', 'three']\n",
        "\n",
        "# Two iterables are passed\n",
        "result = zip(numberList, strList)\n",
        "\n",
        "# Converting itertor to set\n",
        "resultSet = set(result)\n",
        "print(resultSet)"
      ],
      "execution_count": 0,
      "outputs": [
        {
          "output_type": "stream",
          "text": [
            "{(2, 'two'), (1, 'one'), (3, 'three')}\n"
          ],
          "name": "stdout"
        }
      ]
    },
    {
      "cell_type": "markdown",
      "metadata": {
        "id": "smoCI-Cl3eC6",
        "colab_type": "text"
      },
      "source": [
        "## Vectorize"
      ]
    },
    {
      "cell_type": "code",
      "metadata": {
        "id": "QK6OF2n43fVP",
        "colab_type": "code",
        "outputId": "2f079705-022b-43f6-c165-b7e0996e92d5",
        "colab": {
          "base_uri": "https://localhost:8080/",
          "height": 68
        }
      },
      "source": [
        "import numpy as np\n",
        "\n",
        "matrix = np.array([\n",
        "    [1,2,3],\n",
        "    [4,5,6],\n",
        "    [7,8,9]\n",
        "])\n",
        "\n",
        "# create a lambda function\n",
        "add_100 = lambda i: i + 100\n",
        "  \n",
        "# create vectorized function\n",
        "vectorized_add_100 = np.vectorize(add_100)\n",
        "\n",
        "#apply function\n",
        "vectorized_add_100(matrix)"
      ],
      "execution_count": 0,
      "outputs": [
        {
          "output_type": "execute_result",
          "data": {
            "text/plain": [
              "array([[101, 102, 103],\n",
              "       [104, 105, 106],\n",
              "       [107, 108, 109]])"
            ]
          },
          "metadata": {
            "tags": []
          },
          "execution_count": 136
        }
      ]
    },
    {
      "cell_type": "markdown",
      "metadata": {
        "id": "98uxe_FNtrhb",
        "colab_type": "text"
      },
      "source": [
        "# Algorithms"
      ]
    },
    {
      "cell_type": "markdown",
      "metadata": {
        "id": "xOJRssCOttHG",
        "colab_type": "text"
      },
      "source": [
        "## Recursion"
      ]
    },
    {
      "cell_type": "markdown",
      "metadata": {
        "id": "AjdUB47KO1tz",
        "colab_type": "text"
      },
      "source": [
        "Fibonnacci function"
      ]
    },
    {
      "cell_type": "code",
      "metadata": {
        "id": "ixVjaOq-O0xi",
        "colab_type": "code",
        "colab": {}
      },
      "source": [
        "# create simple ficonnacci (with recursion)\n",
        "def fib(n):\n",
        "  if n == 0:\n",
        "    return 0\n",
        "  elif n == 1:\n",
        "    return 1\n",
        "  else:\n",
        "    return fib(n-1) + fib(n-2)"
      ],
      "execution_count": 0,
      "outputs": []
    },
    {
      "cell_type": "code",
      "metadata": {
        "id": "yd_y-QSDPKh7",
        "colab_type": "code",
        "outputId": "134c4472-5fcc-4491-b665-5fddda9669b4",
        "colab": {
          "base_uri": "https://localhost:8080/",
          "height": 34
        }
      },
      "source": [
        "fib(5)"
      ],
      "execution_count": 0,
      "outputs": [
        {
          "output_type": "execute_result",
          "data": {
            "text/plain": [
              "5"
            ]
          },
          "metadata": {
            "tags": []
          },
          "execution_count": 6
        }
      ]
    },
    {
      "cell_type": "markdown",
      "metadata": {
        "id": "VRpiIkVkQ3u4",
        "colab_type": "text"
      },
      "source": [
        "### Memoization"
      ]
    },
    {
      "cell_type": "code",
      "metadata": {
        "id": "1O8nzPvWOYHv",
        "colab_type": "code",
        "colab": {}
      },
      "source": [
        "# create a fibonnaci function, with memoization\n",
        "# create a mamoization function to remember calculated values\n",
        "\n",
        "def memoize(f):\n",
        "  memo = {}\n",
        "  def helper(x):\n",
        "    if x not in memo:\n",
        "      memo[x] = f(x)\n",
        "    return memo[x]\n",
        "  return helper\n",
        "  "
      ],
      "execution_count": 0,
      "outputs": []
    },
    {
      "cell_type": "code",
      "metadata": {
        "id": "jG3dx7r0QxTq",
        "colab_type": "code",
        "outputId": "26e317b6-c61d-4b8d-cb2b-76010edc20a1",
        "colab": {
          "base_uri": "https://localhost:8080/",
          "height": 34
        }
      },
      "source": [
        "fib = memoize(fib)\n",
        "\n",
        "fib(50)"
      ],
      "execution_count": 0,
      "outputs": [
        {
          "output_type": "execute_result",
          "data": {
            "text/plain": [
              "12586269025"
            ]
          },
          "metadata": {
            "tags": []
          },
          "execution_count": 8
        }
      ]
    },
    {
      "cell_type": "markdown",
      "metadata": {
        "id": "3ggKw2QEt1iu",
        "colab_type": "text"
      },
      "source": [
        "## Searching and Sorting"
      ]
    },
    {
      "cell_type": "markdown",
      "metadata": {
        "id": "fylsaioct5Gi",
        "colab_type": "text"
      },
      "source": [
        "## Trees and Tree Algorithms"
      ]
    },
    {
      "cell_type": "markdown",
      "metadata": {
        "id": "lfrWvk8Xt8z9",
        "colab_type": "text"
      },
      "source": [
        "## Graphs and Graph Algorithm"
      ]
    }
  ]
}